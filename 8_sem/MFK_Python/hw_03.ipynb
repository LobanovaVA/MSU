{
 "cells": [
  {
   "cell_type": "markdown",
   "id": "b0ec54d6",
   "metadata": {},
   "source": [
    "# ДЗ 3"
   ]
  },
  {
   "cell_type": "markdown",
   "id": "8d6ffa70",
   "metadata": {},
   "source": [
    "### Задача 1"
   ]
  },
  {
   "cell_type": "code",
   "execution_count": 9,
   "id": "737b05df",
   "metadata": {},
   "outputs": [
    {
     "name": "stdout",
     "output_type": "stream",
     "text": [
      "отЧ еокат ьнесо - отэ обен "
     ]
    }
   ],
   "source": [
    "with open(\"input.txt\", \"r\") as file:\n",
    "    for line in file.readlines():\n",
    "        for word in line.split(\" \"):\n",
    "            print(word[::-1], end=\" \")"
   ]
  },
  {
   "cell_type": "markdown",
   "id": "c2a74e30",
   "metadata": {},
   "source": [
    "### Задача 2"
   ]
  },
  {
   "cell_type": "code",
   "execution_count": 14,
   "id": "39eef45a",
   "metadata": {},
   "outputs": [
    {
     "name": "stdout",
     "output_type": "stream",
     "text": [
      "В лесу родилась ёлочка,\n",
      "В лесу родилась ёлочка,\n"
     ]
    }
   ],
   "source": [
    "with open(\"input.txt\", \"r\") as file:\n",
    "    for line in file.readlines():\n",
    "        if line.find('ё') != -1:\n",
    "            print(line, end='')"
   ]
  },
  {
   "cell_type": "markdown",
   "id": "ca1be226",
   "metadata": {},
   "source": [
    "### Задача 3"
   ]
  },
  {
   "cell_type": "code",
   "execution_count": 22,
   "id": "44309c21",
   "metadata": {},
   "outputs": [
    {
     "name": "stdout",
     "output_type": "stream",
     "text": [
      "Мне привезли товар в плохом состоянии. \n",
      "Плата разбита  \n",
      "Я хочу вернуть деньги. \n"
     ]
    }
   ],
   "source": [
    "with open(\"input.txt\", \"r\") as file:\n",
    "    for line in file.readlines():\n",
    "        words = line.replace(\"\\n\",\"\").split(\" \")\n",
    "        for word in words[::2]:\n",
    "            print (word, end=\" \")\n",
    "        print()"
   ]
  },
  {
   "cell_type": "markdown",
   "id": "36ae4c3e",
   "metadata": {},
   "source": [
    "### Задача 4"
   ]
  },
  {
   "cell_type": "code",
   "execution_count": 43,
   "id": "97b4cab1",
   "metadata": {},
   "outputs": [],
   "source": [
    "out = open(\"output.txt\", \"w\")\n",
    "\n",
    "with open(\"input.txt\", \"r\") as file:\n",
    "    text = [w.replace(\"\\n\",\"\") for w in file.readlines()]\n",
    "    N = int(text[0])\n",
    "    text = text[1:]\n",
    "    for name, number in zip(text[:N], text[N:]):\n",
    "        out.write(name + \"\\t\" + number + \"\\n\")\n",
    "\n",
    "out.close()"
   ]
  },
  {
   "cell_type": "markdown",
   "id": "f8943b52",
   "metadata": {},
   "source": [
    "### Задача 5"
   ]
  },
  {
   "cell_type": "code",
   "execution_count": 54,
   "id": "cdf7ce2f",
   "metadata": {},
   "outputs": [
    {
     "ename": "NameError",
     "evalue": "name 'itertools' is not defined",
     "output_type": "error",
     "traceback": [
      "\u001b[0;31m---------------------------------------------------------------------------\u001b[0m",
      "\u001b[0;31mNameError\u001b[0m                                 Traceback (most recent call last)",
      "Input \u001b[0;32mIn [54]\u001b[0m, in \u001b[0;36m<module>\u001b[0;34m\u001b[0m\n\u001b[1;32m      3\u001b[0m \u001b[38;5;28;01mwith\u001b[39;00m \u001b[38;5;28mopen\u001b[39m(\u001b[38;5;124m\"\u001b[39m\u001b[38;5;124mstudygroup.txt\u001b[39m\u001b[38;5;124m\"\u001b[39m, \u001b[38;5;124m\"\u001b[39m\u001b[38;5;124mr\u001b[39m\u001b[38;5;124m\"\u001b[39m) \u001b[38;5;28;01mas\u001b[39;00m file:\n\u001b[1;32m      4\u001b[0m     \u001b[38;5;28;01mfor\u001b[39;00m line \u001b[38;5;129;01min\u001b[39;00m file\u001b[38;5;241m.\u001b[39mreadlines():\n\u001b[0;32m----> 5\u001b[0m         \u001b[38;5;28;01mfor\u001b[39;00m a, b, c \u001b[38;5;129;01min\u001b[39;00m \u001b[43mitertools\u001b[49m\u001b[38;5;241m.\u001b[39mcombinations (line\u001b[38;5;241m.\u001b[39msplit(\u001b[38;5;124m\"\u001b[39m\u001b[38;5;124m \u001b[39m\u001b[38;5;124m\"\u001b[39m), \u001b[38;5;241m3\u001b[39m):\n\u001b[1;32m      6\u001b[0m             \u001b[38;5;28mprint\u001b[39m(\u001b[38;5;124m\"\u001b[39m\u001b[38;5;124m1:\u001b[39m\u001b[38;5;124m\"\u001b[39m, a, \u001b[38;5;124m\"\u001b[39m\u001b[38;5;124m2:\u001b[39m\u001b[38;5;124m\"\u001b[39m, b, \u001b[38;5;124m\"\u001b[39m\u001b[38;5;124m3:\u001b[39m\u001b[38;5;124m\"\u001b[39m, c, sep\u001b[38;5;241m=\u001b[39m\u001b[38;5;124m\"\u001b[39m\u001b[38;5;124m \u001b[39m\u001b[38;5;124m\"\u001b[39m)\n",
      "\u001b[0;31mNameError\u001b[0m: name 'itertools' is not defined"
     ]
    }
   ],
   "source": [
    "import itertools as it\n",
    "\n",
    "with open(\"studygroup.txt\", \"r\") as file:\n",
    "    for line in file.readlines():\n",
    "        for a, b, c in it.combinations (line.split(\" \"), 3):\n",
    "            print(\"1:\", a, \"2:\", b, \"3:\", c, sep=\" \")    "
   ]
  },
  {
   "cell_type": "code",
   "execution_count": null,
   "id": "846c6ddf",
   "metadata": {},
   "outputs": [],
   "source": []
  }
 ],
 "metadata": {
  "kernelspec": {
   "display_name": "Python 3 (ipykernel)",
   "language": "python",
   "name": "python3"
  },
  "language_info": {
   "codemirror_mode": {
    "name": "ipython",
    "version": 3
   },
   "file_extension": ".py",
   "mimetype": "text/x-python",
   "name": "python",
   "nbconvert_exporter": "python",
   "pygments_lexer": "ipython3",
   "version": "3.8.10"
  }
 },
 "nbformat": 4,
 "nbformat_minor": 5
}
