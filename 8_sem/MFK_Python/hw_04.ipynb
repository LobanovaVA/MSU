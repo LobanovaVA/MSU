{
 "cells": [
  {
   "cell_type": "markdown",
   "id": "b0ec54d6",
   "metadata": {},
   "source": [
    "# ДЗ 4"
   ]
  },
  {
   "cell_type": "markdown",
   "id": "8d6ffa70",
   "metadata": {},
   "source": [
    "### Задача 3"
   ]
  },
  {
   "cell_type": "code",
   "execution_count": 10,
   "id": "737b05df",
   "metadata": {},
   "outputs": [
    {
     "name": "stdout",
     "output_type": "stream",
     "text": [
      "11111111\n",
      "255\n"
     ]
    }
   ],
   "source": [
    "a = int(input ())\n",
    "b = 0\n",
    "p = 1\n",
    "while a > 0:\n",
    "    b += p * (a % 2)\n",
    "    p *= 2\n",
    "    a //= 10\n",
    "print(b)"
   ]
  },
  {
   "cell_type": "markdown",
   "id": "c2a74e30",
   "metadata": {},
   "source": [
    "### Задача 3"
   ]
  },
  {
   "cell_type": "code",
   "execution_count": 7,
   "id": "39eef45a",
   "metadata": {},
   "outputs": [
    {
     "name": "stdout",
     "output_type": "stream",
     "text": [
      "-48 29\n",
      "-538 363\n",
      "-643 518\n",
      "4.4065\n"
     ]
    }
   ],
   "source": [
    "from fractions import Fraction\n",
    "\n",
    "inp = input().split()\n",
    "a = Fraction(int(inp[0]), int(inp[1]))\n",
    "inp = input().split()\n",
    "b = Fraction(int(inp[0]), int(inp[1]))\n",
    "inp = input().split()\n",
    "c = Fraction(int(inp[0]), int(inp[1]))\n",
    "\n",
    "ans = b/a + b/(a+c) - c/(c-a)\n",
    "ans = float(ans)\n",
    "print (f\"{ans:.4f}\")\n"
   ]
  },
  {
   "cell_type": "markdown",
   "id": "ca1be226",
   "metadata": {},
   "source": [
    "### Задача 4"
   ]
  },
  {
   "cell_type": "code",
   "execution_count": null,
   "id": "44309c21",
   "metadata": {},
   "outputs": [],
   "source": [
    "a = int(input())\n",
    "summa = a\n",
    "count = 0\n",
    "\n",
    "while (a != 0):\n",
    "    a = int(input())\n",
    "    summa += a\n",
    "    count += 1\n",
    "    \n",
    "print (count, summa)"
   ]
  },
  {
   "cell_type": "markdown",
   "id": "36ae4c3e",
   "metadata": {},
   "source": [
    "### Задача 5"
   ]
  },
  {
   "cell_type": "code",
   "execution_count": 2,
   "id": "97b4cab1",
   "metadata": {},
   "outputs": [
    {
     "name": "stdout",
     "output_type": "stream",
     "text": [
      "0\n",
      "0 0\n"
     ]
    }
   ],
   "source": [
    "a = int(input())\n",
    "summa = a\n",
    "count = 0\n",
    "\n",
    "while (a != 0):\n",
    "    a = int(input())\n",
    "    summa += a\n",
    "    count += 1\n",
    "    \n",
    "print (count, summa)"
   ]
  },
  {
   "cell_type": "markdown",
   "id": "f8943b52",
   "metadata": {},
   "source": [
    "### Задача 6"
   ]
  },
  {
   "cell_type": "code",
   "execution_count": 4,
   "id": "cdf7ce2f",
   "metadata": {},
   "outputs": [
    {
     "name": "stdout",
     "output_type": "stream",
     "text": [
      "1 2 3\n",
      "3\n"
     ]
    }
   ],
   "source": [
    "inp = input().split()\n",
    "[b, q, a] = [float(x) for x in inp]\n",
    "count = 1\n",
    "while b <= a:\n",
    "    b *= q\n",
    "    count += 1\n",
    "print(count)"
   ]
  }
 ],
 "metadata": {
  "kernelspec": {
   "display_name": "Python 3 (ipykernel)",
   "language": "python",
   "name": "python3"
  },
  "language_info": {
   "codemirror_mode": {
    "name": "ipython",
    "version": 3
   },
   "file_extension": ".py",
   "mimetype": "text/x-python",
   "name": "python",
   "nbconvert_exporter": "python",
   "pygments_lexer": "ipython3",
   "version": "3.8.10"
  }
 },
 "nbformat": 4,
 "nbformat_minor": 5
}
