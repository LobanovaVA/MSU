{
 "cells": [
  {
   "cell_type": "markdown",
   "id": "b0ec54d6",
   "metadata": {},
   "source": [
    "# ДЗ 6"
   ]
  },
  {
   "cell_type": "markdown",
   "id": "3036d565",
   "metadata": {},
   "source": [
    "### Задача 4"
   ]
  },
  {
   "cell_type": "code",
   "execution_count": 21,
   "id": "ad598dd2",
   "metadata": {},
   "outputs": [
    {
     "name": "stdout",
     "output_type": "stream",
     "text": [
      "22222290\n",
      "2\n"
     ]
    }
   ],
   "source": [
    "N = str(input())\n",
    "numbers = [x for x in range(0, 10)]\n",
    "numbers_frequency = [N.count(str(x)) for x in numbers]\n",
    "numbers_and_frequency_sorted = sorted(zip(numbers, numbers_frequency),\n",
    "                                      key=lambda pair: pair[1], reverse=True)\n",
    "print (numbers_and_frequency_sorted[0][0])"
   ]
  },
  {
   "cell_type": "markdown",
   "id": "3265346f",
   "metadata": {},
   "source": [
    "### Задача 5"
   ]
  },
  {
   "cell_type": "code",
   "execution_count": 31,
   "id": "77167ad4",
   "metadata": {},
   "outputs": [
    {
     "name": "stdout",
     "output_type": "stream",
     "text": [
      "fd\n",
      "leopard\n",
      "orangutan\n"
     ]
    }
   ],
   "source": [
    "animals_set = set ()\n",
    "\n",
    "with open(\"input.txt\", \"r\") as file:\n",
    "    for line in file.readlines():\n",
    "        animal = line.split(' ')[1]\n",
    "        animals_set.add(animal)\n",
    "        \n",
    "animals_list = [x for x in animals_set]\n",
    "animals_list_sorted = sorted(animals_list, key=lambda x: len(x))\n",
    "\n",
    "for x in animals_list_sorted:\n",
    "    print (x)"
   ]
  },
  {
   "cell_type": "markdown",
   "id": "60474a88",
   "metadata": {},
   "source": [
    "### Задача 6"
   ]
  },
  {
   "cell_type": "code",
   "execution_count": 37,
   "id": "b8ca7dd5",
   "metadata": {},
   "outputs": [
    {
     "name": "stdout",
     "output_type": "stream",
     "text": [
      "0\n"
     ]
    }
   ],
   "source": [
    "animals_F = set ()\n",
    "animals_M = set ()\n",
    "\n",
    "with open(\"input.txt\", \"r\") as file:\n",
    "    for line in file.readlines():\n",
    "        [animal, gender] = line.split(' ')[1:3]\n",
    "        if gender == 'female':\n",
    "            animals_F.add(animal)\n",
    "        else:\n",
    "            animals_M.add(animal)\n",
    "    \n",
    "animal_ans = animals_F & animals_M\n",
    "animals_list = [x for x in animal_ans]\n",
    "animals_list_sorted = sorted(animals_list, key=lambda x: len(x))\n",
    "\n",
    "\n",
    "if not animals_list_sorted:\n",
    "    print (0)\n",
    "else:\n",
    "    for x in animals_list_sorted:\n",
    "        print (x)"
   ]
  },
  {
   "cell_type": "markdown",
   "id": "bf577ca6",
   "metadata": {},
   "source": [
    "### Задача 7"
   ]
  },
  {
   "cell_type": "code",
   "execution_count": 56,
   "id": "e66338ba",
   "metadata": {},
   "outputs": [
    {
     "name": "stdout",
     "output_type": "stream",
     "text": [
      "dog : 0043 0003 \n",
      "lion : 0042 \n"
     ]
    }
   ],
   "source": [
    "animals_dict = dict ()\n",
    "\n",
    "with open(\"input.txt\", \"r\") as file:\n",
    "    for line in file.readlines():\n",
    "        animal = line.split(' ')[1]\n",
    "        if animal in animals_dict:\n",
    "            animals_dict[animal] += 1\n",
    "        else:\n",
    "            animals_dict[animal] = 1\n",
    "\n",
    "animals_dict = zip(animals_dict.keys(), animals_dict.values())\n",
    "animals_dict_sorted = sorted(animals_dict, key=lambda pair: pair[1], reverse=True)\n",
    "\n",
    "for x in animals_dict_sorted:\n",
    "    print (x[0], '-', x[1])"
   ]
  },
  {
   "cell_type": "markdown",
   "id": "361b83ce",
   "metadata": {},
   "source": [
    "### Задача 8"
   ]
  },
  {
   "cell_type": "code",
   "execution_count": 65,
   "id": "60de1466",
   "metadata": {},
   "outputs": [
    {
     "name": "stdout",
     "output_type": "stream",
     "text": [
      "dog: 0003, 0043\n",
      "lion: 0042\n"
     ]
    }
   ],
   "source": [
    "animals_dict = dict ()\n",
    "\n",
    "with open(\"input.txt\", \"r\") as file:\n",
    "    for line in file.readlines():\n",
    "        [ID, animal] = line.split(' ')[:2]\n",
    "        if animal in animals_dict:\n",
    "            animals_dict[animal] += [ID]\n",
    "        else:\n",
    "            animals_dict[animal] = [ID]\n",
    "\n",
    "animals_dict = zip(animals_dict.keys(), animals_dict.values())\n",
    "animals_dict_sorted = sorted(animals_dict, key=lambda x: len(x[0]))\n",
    "\n",
    "for record in animals_dict_sorted:\n",
    "    print (record[0], ':', sep='', end=' ')\n",
    "    ID_sorted = sorted(record[1])\n",
    "    print(*ID_sorted, sep=', ')"
   ]
  }
 ],
 "metadata": {
  "kernelspec": {
   "display_name": "Python 3 (ipykernel)",
   "language": "python",
   "name": "python3"
  },
  "language_info": {
   "codemirror_mode": {
    "name": "ipython",
    "version": 3
   },
   "file_extension": ".py",
   "mimetype": "text/x-python",
   "name": "python",
   "nbconvert_exporter": "python",
   "pygments_lexer": "ipython3",
   "version": "3.8.10"
  }
 },
 "nbformat": 4,
 "nbformat_minor": 5
}
