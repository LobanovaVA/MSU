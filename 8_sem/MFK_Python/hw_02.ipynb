{
 "cells": [
  {
   "cell_type": "markdown",
   "id": "223bcc8f",
   "metadata": {},
   "source": [
    "# ДЗ 2"
   ]
  },
  {
   "cell_type": "markdown",
   "id": "7ae2a713",
   "metadata": {},
   "source": [
    "### Задача 1"
   ]
  },
  {
   "cell_type": "code",
   "execution_count": 3,
   "id": "37913b7a",
   "metadata": {},
   "outputs": [
    {
     "name": "stdout",
     "output_type": "stream",
     "text": [
      "Hello World!\n",
      "12\n"
     ]
    }
   ],
   "source": [
    "print(len(input()))"
   ]
  },
  {
   "cell_type": "markdown",
   "id": "1854f78a",
   "metadata": {},
   "source": [
    "### Задача 2"
   ]
  },
  {
   "cell_type": "code",
   "execution_count": 5,
   "id": "3bed048b",
   "metadata": {},
   "outputs": [
    {
     "name": "stdout",
     "output_type": "stream",
     "text": [
      "Hello World!\n",
      "!dlroW olleH\n"
     ]
    }
   ],
   "source": [
    "print(input()[::-1])"
   ]
  },
  {
   "cell_type": "markdown",
   "id": "982beae5",
   "metadata": {},
   "source": [
    "### Задача 3"
   ]
  },
  {
   "cell_type": "code",
   "execution_count": 8,
   "id": "1436ea65",
   "metadata": {},
   "outputs": [
    {
     "name": "stdout",
     "output_type": "stream",
     "text": [
      "\"Kto tam?\" — sprosil dyadya Fyodor.\n",
      "Kto tam?\n"
     ]
    }
   ],
   "source": [
    "s = input()\n",
    "begin = s.find('\"') + 1\n",
    "end = s.find('\"', begin)\n",
    "print(s[begin:end])"
   ]
  },
  {
   "cell_type": "markdown",
   "id": "1d15cc7c",
   "metadata": {},
   "source": [
    "### Задача 4"
   ]
  },
  {
   "cell_type": "code",
   "execution_count": 10,
   "id": "9df59f65",
   "metadata": {},
   "outputs": [
    {
     "name": "stdout",
     "output_type": "stream",
     "text": [
      "3254543 793423410\n",
      "793423410 3254543\n"
     ]
    }
   ],
   "source": [
    "s = input()\n",
    "space = s.find(' ')\n",
    "print(s[space + 1:], s[:space])"
   ]
  },
  {
   "cell_type": "markdown",
   "id": "1e696e25",
   "metadata": {},
   "source": [
    "### Задача 5"
   ]
  },
  {
   "cell_type": "code",
   "execution_count": 12,
   "id": "659b9687",
   "metadata": {},
   "outputs": [
    {
     "name": "stdout",
     "output_type": "stream",
     "text": [
      "ivan@lenta.ru\n",
      "ivan\n"
     ]
    }
   ],
   "source": [
    "s = input()\n",
    "print(s[:s.find('@')])"
   ]
  },
  {
   "cell_type": "markdown",
   "id": "987c3c75",
   "metadata": {},
   "source": [
    "### Задача 6"
   ]
  },
  {
   "cell_type": "code",
   "execution_count": 15,
   "id": "7686c57d",
   "metadata": {},
   "outputs": [
    {
     "name": "stdout",
     "output_type": "stream",
     "text": [
      "+7 (812) 134-12-324\n",
      "+781213412324\n"
     ]
    }
   ],
   "source": [
    "import re\n",
    "s = input()\n",
    "s=re.sub(\"[-|)|(| ]\",\"\",s)\n",
    "print(s)"
   ]
  },
  {
   "cell_type": "code",
   "execution_count": null,
   "id": "7f76b245",
   "metadata": {},
   "outputs": [],
   "source": []
  }
 ],
 "metadata": {
  "kernelspec": {
   "display_name": "Python 3 (ipykernel)",
   "language": "python",
   "name": "python3"
  },
  "language_info": {
   "codemirror_mode": {
    "name": "ipython",
    "version": 3
   },
   "file_extension": ".py",
   "mimetype": "text/x-python",
   "name": "python",
   "nbconvert_exporter": "python",
   "pygments_lexer": "ipython3",
   "version": "3.8.10"
  }
 },
 "nbformat": 4,
 "nbformat_minor": 5
}
