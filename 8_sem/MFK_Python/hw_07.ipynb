{
 "cells": [
  {
   "cell_type": "markdown",
   "id": "b0ec54d6",
   "metadata": {},
   "source": [
    "# ДЗ 7"
   ]
  },
  {
   "cell_type": "markdown",
   "id": "3036d565",
   "metadata": {},
   "source": [
    "### Задача 1"
   ]
  },
  {
   "cell_type": "code",
   "execution_count": 12,
   "id": "fb54c6e9",
   "metadata": {},
   "outputs": [
    {
     "name": "stdout",
     "output_type": "stream",
     "text": [
      "27\n"
     ]
    }
   ],
   "source": [
    "const = 1e-12 \n",
    "n = 12\n",
    "while 10 ** (-(n+1)) + const != const:\n",
    "    n+=1\n",
    "print (n)"
   ]
  },
  {
   "cell_type": "markdown",
   "id": "e14c5792",
   "metadata": {},
   "source": [
    "### Задача 2"
   ]
  },
  {
   "cell_type": "code",
   "execution_count": 20,
   "id": "541f1084",
   "metadata": {},
   "outputs": [
    {
     "name": "stdout",
     "output_type": "stream",
     "text": [
      "27\n"
     ]
    }
   ],
   "source": [
    "from math import *\n",
    "day = 18\n",
    "ans = 20 * exp(sin(day/100) * day/10)\n",
    "print (int (ans))"
   ]
  },
  {
   "cell_type": "markdown",
   "id": "7c9146b1",
   "metadata": {},
   "source": [
    "### Задача 3"
   ]
  },
  {
   "cell_type": "code",
   "execution_count": 30,
   "id": "d41d1ed9",
   "metadata": {},
   "outputs": [
    {
     "name": "stdout",
     "output_type": "stream",
     "text": [
      "-1\n"
     ]
    }
   ],
   "source": [
    "def bin_search (array, value, start, end):\n",
    "    if start > end:\n",
    "        return -1\n",
    "    \n",
    "    mid = (start + end) // 2\n",
    "    if value == int(array[mid]):\n",
    "        return mid\n",
    "\n",
    "    if value < int(array[mid]):\n",
    "        return bin_search(array, value, start, mid - 1)\n",
    "    else:\n",
    "        return bin_search(array, value, mid + 1, end)\n",
    "\n",
    "with open(\"input.txt\", \"r\") as file:\n",
    "    line = file.read().rstrip()\n",
    "    dates = line.split(' ')\n",
    "\n",
    "need_val = 1415\n",
    "ans = bin_search (dates, need_val, 0, len(dates))\n",
    "print (ans)"
   ]
  },
  {
   "cell_type": "markdown",
   "id": "1bdb67cd",
   "metadata": {},
   "source": [
    "### Задача 4"
   ]
  },
  {
   "cell_type": "code",
   "execution_count": 43,
   "id": "77167ad4",
   "metadata": {},
   "outputs": [],
   "source": [
    "import numpy as np\n",
    "\n",
    "with open(\"input.txt\", \"r\") as file:\n",
    "    text = file.read().splitlines()\n",
    "    first = float(text[0].rstrip())\n",
    "    end   = float(text[1].rstrip())\n",
    "    days  = int  (text[2].rstrip())\n",
    "    \n",
    "plan = np.linspace(first, end, days) \n",
    "plan[0::7] = plan[0::7] / 3\n",
    "plan[4::7] = plan[4::7] * 2\n",
    "\n",
    "out = open(\"output.txt\", \"w\")\n",
    "for x in plan:\n",
    "    out.write(f'{x:.2f}\\n')\n",
    "out.close()\n"
   ]
  }
 ],
 "metadata": {
  "kernelspec": {
   "display_name": "Python 3 (ipykernel)",
   "language": "python",
   "name": "python3"
  },
  "language_info": {
   "codemirror_mode": {
    "name": "ipython",
    "version": 3
   },
   "file_extension": ".py",
   "mimetype": "text/x-python",
   "name": "python",
   "nbconvert_exporter": "python",
   "pygments_lexer": "ipython3",
   "version": "3.8.10"
  }
 },
 "nbformat": 4,
 "nbformat_minor": 5
}
