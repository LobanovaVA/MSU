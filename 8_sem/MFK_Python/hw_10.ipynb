{
 "cells": [
  {
   "cell_type": "markdown",
   "id": "b0ec54d6",
   "metadata": {},
   "source": [
    "# ДЗ 10"
   ]
  },
  {
   "cell_type": "markdown",
   "id": "3036d565",
   "metadata": {},
   "source": [
    "### Задача 1"
   ]
  },
  {
   "cell_type": "code",
   "execution_count": 9,
   "id": "fb54c6e9",
   "metadata": {},
   "outputs": [],
   "source": [
    "import pandas as pd\n",
    "data = pd.read_csv('input.csv')\n",
    "\n",
    "data.dropna(subset = ['name'], axis=0, inplace=True)\n",
    "mean_val = data['score'].mean()\n",
    "data.fillna(value=mean_val, axis=0, inplace=True)\n",
    "\n",
    "data.to_csv('output.csv')"
   ]
  },
  {
   "cell_type": "markdown",
   "id": "e14c5792",
   "metadata": {},
   "source": [
    "### Задача 2"
   ]
  },
  {
   "cell_type": "code",
   "execution_count": 1,
   "id": "541f1084",
   "metadata": {},
   "outputs": [],
   "source": [
    "def C_to_F (C : int) -> int:\n",
    "    return round(1.8 * C + 32)\n",
    "\n",
    "import pandas as pd\n",
    "data = pd.read_csv('input.csv')\n",
    "\n",
    "data['temperature_f'] = data['temperature_c'].apply(C_to_F)\n",
    "\n",
    "data.to_csv('output.csv')"
   ]
  }
 ],
 "metadata": {
  "kernelspec": {
   "display_name": "Python 3 (ipykernel)",
   "language": "python",
   "name": "python3"
  },
  "language_info": {
   "codemirror_mode": {
    "name": "ipython",
    "version": 3
   },
   "file_extension": ".py",
   "mimetype": "text/x-python",
   "name": "python",
   "nbconvert_exporter": "python",
   "pygments_lexer": "ipython3",
   "version": "3.8.10"
  }
 },
 "nbformat": 4,
 "nbformat_minor": 5
}
