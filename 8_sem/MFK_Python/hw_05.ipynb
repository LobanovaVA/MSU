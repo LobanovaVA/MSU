{
 "cells": [
  {
   "cell_type": "markdown",
   "id": "b0ec54d6",
   "metadata": {},
   "source": [
    "# ДЗ 5"
   ]
  },
  {
   "cell_type": "markdown",
   "id": "8d6ffa70",
   "metadata": {},
   "source": [
    "### Задача 1"
   ]
  },
  {
   "cell_type": "code",
   "execution_count": 162,
   "id": "77a4ec1d",
   "metadata": {},
   "outputs": [],
   "source": [
    "d_read = {}\n",
    "with open(\"weights.txt\", \"r\") as file:\n",
    "    for line in file.readlines():\n",
    "        [name, w] = line.replace('\\n', '').split(\" \")[0:2]\n",
    "        w = float(w)\n",
    "        d_read.update([(w, name)])\n",
    "\n",
    "w_sorted = sorted(d.keys())\n",
    "w_ans = w_sorted[0::2] + w_sorted[1::2]\n",
    "\n",
    "out = open(\"team.txt\", \"w\")\n",
    "for w in w_ans:\n",
    "    out.write(d_read[w] + \" \" +  str(w) + \"\\n\")\n",
    "out.close()"
   ]
  },
  {
   "cell_type": "code",
   "execution_count": 163,
   "id": "5fbfa37e",
   "metadata": {},
   "outputs": [],
   "source": [
    "arr = []\n",
    "with open(\"weights.txt\", \"r\") as file:\n",
    "    for line in file.readlines():\n",
    "        arr += [line.replace('\\n', '')]\n",
    "\n",
    "ans = sorted(arr, key=lambda x: x.split(\" \")[0], reverse=True)\n",
    "ans = ans[0::2] + ans[1::2]\n",
    "\n",
    "out = open(\"team.txt\", \"w\")\n",
    "for w in ans:\n",
    "    out.write(w + \"\\n\")\n",
    "out.close()"
   ]
  },
  {
   "cell_type": "markdown",
   "id": "7146ac51",
   "metadata": {},
   "source": [
    "### Задача 2"
   ]
  },
  {
   "cell_type": "code",
   "execution_count": 164,
   "id": "0edf9f1e",
   "metadata": {},
   "outputs": [],
   "source": [
    "text = []\n",
    "with open(\"poe_unpublished.txt\", \"r\") as file:\n",
    "    for line in file.readlines():\n",
    "        text += [line.replace('\\n', '')]\n",
    "text = sorted(text, key=lambda x: len(x.split(\" \")))\n",
    "\n",
    "ans_text = []\n",
    "for line in text:\n",
    "    line = sorted(line.split(\" \"), key=lambda x: len(x))\n",
    "    ans_line = ''\n",
    "    for word in line:\n",
    "        ans_line += word + ' '\n",
    "    ans_text += [ans_line[:-1]]\n",
    "    \n",
    "out = open(\"poe_decode_attempt.txt\", \"w\")\n",
    "for line in ans_text:\n",
    "    out.write(line + \"\\n\")\n",
    "out.close()\n"
   ]
  },
  {
   "cell_type": "markdown",
   "id": "45df23e0",
   "metadata": {},
   "source": [
    "### Задача 3"
   ]
  },
  {
   "cell_type": "code",
   "execution_count": 165,
   "id": "0813c86f",
   "metadata": {},
   "outputs": [],
   "source": [
    "matr = []\n",
    "with open(\"med_research.txt\", \"r\") as file:\n",
    "    for line in file.readlines():\n",
    "        arr = [x for x in line.replace('\\n', '').split(\" \")]\n",
    "        matr += [arr]\n",
    "        \n",
    "ans = []\n",
    "for j in range(len(matr[0])):\n",
    "    ans_line = ''\n",
    "    for i in range(len(matr)):\n",
    "        ans_line += matr[i][j] + ' '\n",
    "    ans += [ans_line[:-1]]\n",
    "    \n",
    "out = open(\"output.txt\", \"w\")\n",
    "for line in ans:\n",
    "    out.write(line + \"\\n\")\n",
    "out.close()"
   ]
  },
  {
   "cell_type": "markdown",
   "id": "3b32b3a4",
   "metadata": {},
   "source": [
    "### Задача 4"
   ]
  },
  {
   "cell_type": "code",
   "execution_count": 195,
   "id": "00a2401b",
   "metadata": {},
   "outputs": [],
   "source": [
    "arr = []\n",
    "with open(\"the_calls.txt\", \"r\") as file:\n",
    "    for line in file.readlines():\n",
    "        arr += [line.replace('\\n', '')]\n",
    "\n",
    "arr = sorted(arr, key=lambda x: int(x.split(\"\\t\")[1]), reverse=True)\n",
    "\n",
    "arr_A = [x for x in arr if x.split(\"\\t\")[2] == \"A\"] \n",
    "arr_B = [x for x in arr if x.split(\"\\t\")[2] == \"B\"] \n",
    "    \n",
    "out = open(\"calls.txt\", \"w\")\n",
    "for x in arr_A + arr_B:\n",
    "    out.write(x + \"\\n\")\n",
    "out.close()"
   ]
  },
  {
   "cell_type": "code",
   "execution_count": null,
   "id": "cce7e4e2",
   "metadata": {},
   "outputs": [],
   "source": []
  }
 ],
 "metadata": {
  "kernelspec": {
   "display_name": "Python 3 (ipykernel)",
   "language": "python",
   "name": "python3"
  },
  "language_info": {
   "codemirror_mode": {
    "name": "ipython",
    "version": 3
   },
   "file_extension": ".py",
   "mimetype": "text/x-python",
   "name": "python",
   "nbconvert_exporter": "python",
   "pygments_lexer": "ipython3",
   "version": "3.8.10"
  }
 },
 "nbformat": 4,
 "nbformat_minor": 5
}
