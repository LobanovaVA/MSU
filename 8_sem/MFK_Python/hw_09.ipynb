{
 "cells": [
  {
   "cell_type": "markdown",
   "id": "b0ec54d6",
   "metadata": {},
   "source": [
    "# ДЗ 9"
   ]
  },
  {
   "cell_type": "markdown",
   "id": "3036d565",
   "metadata": {},
   "source": [
    "### Задача 1"
   ]
  },
  {
   "cell_type": "code",
   "execution_count": 7,
   "id": "fb54c6e9",
   "metadata": {},
   "outputs": [],
   "source": [
    "def ans (x1:bool, x2:bool, x3:bool) -> bool:\n",
    "    return (not x1 and x2 and not x3) or (not x1 and x2 and x3) or (x1 and not x2 and not x3)\n",
    "\n",
    "var = [False, True]\n",
    "with open(\"output.txt\", \"w\") as file:\n",
    "    for x1 in var:\n",
    "        for x2 in var:\n",
    "            for x3 in var:\n",
    "                if ans(x1, x2, x3):\n",
    "                    print (x1, x2, x3, file=file)\n",
    "            "
   ]
  },
  {
   "cell_type": "markdown",
   "id": "e14c5792",
   "metadata": {},
   "source": [
    "### Задача 2"
   ]
  },
  {
   "cell_type": "code",
   "execution_count": 9,
   "id": "541f1084",
   "metadata": {},
   "outputs": [
    {
     "name": "stdout",
     "output_type": "stream",
     "text": [
      "1\n"
     ]
    }
   ],
   "source": [
    "import numpy as np\n",
    "data = np.genfromtxt('input.csv', delimiter=',')\n",
    "\n",
    "means = []\n",
    "min_mean = data[:,0:1].mean()\n",
    "min_i = 0\n",
    "\n",
    "for i in range(10):\n",
    "    mean_i = data[:,i:i+1].mean()\n",
    "    if mean_i < min_mean:\n",
    "        min_mean = mean_i\n",
    "        min_i = i\n",
    "\n",
    "print(min_i+1)\n"
   ]
  },
  {
   "cell_type": "markdown",
   "id": "7c9146b1",
   "metadata": {},
   "source": [
    "### Задача 3"
   ]
  },
  {
   "cell_type": "code",
   "execution_count": 29,
   "id": "d41d1ed9",
   "metadata": {},
   "outputs": [
    {
     "name": "stdout",
     "output_type": "stream",
     "text": [
      "Вишенка\n"
     ]
    }
   ],
   "source": [
    "import pandas as pd\n",
    "data = pd.read_csv(\"input.csv\")\n",
    "print(data.mean().idxmax())"
   ]
  },
  {
   "cell_type": "markdown",
   "id": "1bdb67cd",
   "metadata": {},
   "source": [
    "### Задача 4"
   ]
  },
  {
   "cell_type": "code",
   "execution_count": 36,
   "id": "77167ad4",
   "metadata": {},
   "outputs": [
    {
     "name": "stdout",
     "output_type": "stream",
     "text": [
      "1 Мыло.ру\n"
     ]
    }
   ],
   "source": [
    "import pandas as pd\n",
    "data = pd.read_csv(\"input.csv\")\n",
    "print(int(data.sum().sum() >= 8*10**6), data.sum().idxmax())"
   ]
  },
  {
   "cell_type": "markdown",
   "id": "ce005d36",
   "metadata": {},
   "source": [
    "### Задача 6"
   ]
  },
  {
   "cell_type": "code",
   "execution_count": 50,
   "id": "a8b20098",
   "metadata": {},
   "outputs": [
    {
     "name": "stdout",
     "output_type": "stream",
     "text": [
      "4\n"
     ]
    }
   ],
   "source": [
    "def tr (d : list) -> bool:\n",
    "    a, b, c = d\n",
    "    return (a < b + c) and (b < a + c) and (c < a + b)\n",
    "    \n",
    "import numpy as np\n",
    "data = np.genfromtxt('input.csv', delimiter=',', skip_header=1)\n",
    "\n",
    "count = 0\n",
    "for i in range(len(data[:,0:1])):\n",
    "    if tr(*data[i:i+1,:]):\n",
    "        count += 1\n",
    "        \n",
    "print(count)"
   ]
  }
 ],
 "metadata": {
  "kernelspec": {
   "display_name": "Python 3 (ipykernel)",
   "language": "python",
   "name": "python3"
  },
  "language_info": {
   "codemirror_mode": {
    "name": "ipython",
    "version": 3
   },
   "file_extension": ".py",
   "mimetype": "text/x-python",
   "name": "python",
   "nbconvert_exporter": "python",
   "pygments_lexer": "ipython3",
   "version": "3.8.10"
  }
 },
 "nbformat": 4,
 "nbformat_minor": 5
}
