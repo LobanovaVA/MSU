{
 "cells": [
  {
   "cell_type": "markdown",
   "id": "b0ec54d6",
   "metadata": {},
   "source": [
    "# ДЗ 8"
   ]
  },
  {
   "cell_type": "markdown",
   "id": "3036d565",
   "metadata": {},
   "source": [
    "### Задача 1"
   ]
  },
  {
   "cell_type": "code",
   "execution_count": 12,
   "id": "fb54c6e9",
   "metadata": {},
   "outputs": [
    {
     "name": "stdout",
     "output_type": "stream",
     "text": [
      "27\n"
     ]
    }
   ],
   "source": [
    "import numpy as np\n",
    "arr = np.loadtxt('input.txt', delimiter=' ')\n",
    "print(\"{:.2f} {:.2f} {:.2f}\".format(np.median(arr), np.mean(arr), np.std(arr)))"
   ]
  },
  {
   "cell_type": "markdown",
   "id": "e14c5792",
   "metadata": {},
   "source": [
    "### Задача 2"
   ]
  },
  {
   "cell_type": "code",
   "execution_count": 20,
   "id": "541f1084",
   "metadata": {},
   "outputs": [
    {
     "name": "stdout",
     "output_type": "stream",
     "text": [
      "27\n"
     ]
    }
   ],
   "source": [
    "import numpy as np\n",
    "data = np.genfromtxt('input.csv', delimiter=',')\n",
    "\n",
    "s1 = data[:,0:1].sum()\n",
    "s2 = data[:,1:2].sum()\n",
    "s3 = data[:,2:3].sum()\n",
    "\n",
    "ans = 3\n",
    "if   s1 > s2 and s1 > s3:   ans = 1\n",
    "elif s2 > s1 and s2 > s3:   ans = 2\n",
    "print(ans)"
   ]
  },
  {
   "cell_type": "markdown",
   "id": "7c9146b1",
   "metadata": {},
   "source": [
    "### Задача 3"
   ]
  },
  {
   "cell_type": "code",
   "execution_count": 30,
   "id": "d41d1ed9",
   "metadata": {},
   "outputs": [
    {
     "name": "stdout",
     "output_type": "stream",
     "text": [
      "-1\n"
     ]
    }
   ],
   "source": [
    "import numpy as np\n",
    "data = np.genfromtxt('input.csv', delimiter=',')\n",
    "\n",
    "N = len(data[:,0:1])\n",
    "stat = [np.std(data[i:i+1,:]) for i in range(N)]\n",
    "categ = [2 if abs(x) > 4 else 1 for x in stat]\n",
    "\n",
    "c1 = sum(1 if x == 1 else 0 for x in categ)\n",
    "c2 = sum(1 if x == 2 else 0 for x in categ)\n",
    "\n",
    "ans = 1 if c1 > c2 else 2;\n",
    "print (ans)"
   ]
  },
  {
   "cell_type": "markdown",
   "id": "1bdb67cd",
   "metadata": {},
   "source": [
    "### Задача 4"
   ]
  },
  {
   "cell_type": "code",
   "execution_count": 43,
   "id": "77167ad4",
   "metadata": {},
   "outputs": [],
   "source": [
    "import numpy as np\n",
    "data = np.genfromtxt('input.csv', delimiter=',')\n",
    "\n",
    "for i in range(0,30,2):\n",
    "    data[i:i+1,1::2]/=2\n",
    "for i in range(1,30,2):\n",
    "    data[i:i+1,0::2]/=2\n",
    "\n",
    "np.savetxt('output.csv', data, fmt='%g', delimiter=',')"
   ]
  },
  {
   "cell_type": "markdown",
   "id": "ce005d36",
   "metadata": {},
   "source": [
    "### Задача 5"
   ]
  },
  {
   "cell_type": "code",
   "execution_count": null,
   "id": "a8b20098",
   "metadata": {},
   "outputs": [],
   "source": [
    "import numpy as np\n",
    "data = np.genfromtxt('input.csv', delimiter=',')\n",
    "\n",
    "for i in range(30):\n",
    "    data[0,i] = np.mean(data[:,i:i+1]) * 1.5 // 1\n",
    "\n",
    "np.savetxt('output.csv', data, fmt='%g', delimiter=',')"
   ]
  }
 ],
 "metadata": {
  "kernelspec": {
   "display_name": "Python 3 (ipykernel)",
   "language": "python",
   "name": "python3"
  },
  "language_info": {
   "codemirror_mode": {
    "name": "ipython",
    "version": 3
   },
   "file_extension": ".py",
   "mimetype": "text/x-python",
   "name": "python",
   "nbconvert_exporter": "python",
   "pygments_lexer": "ipython3",
   "version": "3.8.10"
  }
 },
 "nbformat": 4,
 "nbformat_minor": 5
}
