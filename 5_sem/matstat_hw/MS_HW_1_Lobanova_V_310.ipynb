{
 "cells": [
  {
   "cell_type": "markdown",
   "metadata": {},
   "source": [
    "# Лобанова Валерия 310 loglaplace"
   ]
  },
  {
   "cell_type": "code",
   "execution_count": null,
   "metadata": {},
   "outputs": [],
   "source": [
    "import numpy as np\n",
    "import matplotlib.pyplot as plt\n",
    "from scipy.stats import loglaplace\n",
    "from math import fabs, pi"
   ]
  },
  {
   "cell_type": "markdown",
   "metadata": {},
   "source": [
    "### Оценки математического ожидания и дисперсии"
   ]
  },
  {
   "cell_type": "code",
   "execution_count": 83,
   "metadata": {},
   "outputs": [
    {
     "name": "stdout",
     "output_type": "stream",
     "text": [
      "[0.92319304 1.04811424 1.77512281 ... 1.38317065 1.20072422 3.50565824]\n"
     ]
    }
   ],
   "source": [
    "#c = float (input (\"Please, enter parameter c: \"))\n",
    "c = 5\n",
    "X = loglaplace.rvs (c, size = 10000)\n",
    "num_list = [20, 50, 100, 200, 500, 1000, 5000, 10000]\n",
    "print(X)"
   ]
  },
  {
   "cell_type": "code",
   "execution_count": 84,
   "metadata": {},
   "outputs": [],
   "source": [
    "# f, axes = plt.subplots(2, 4, sharey = True, figsize = (20, 6))\n",
    "# for i in range (4):\n",
    "#     axes[0][i].hist(X, bins = num_list[i])\n",
    "#     axes[1][i].hist(X, bins = num_list[4+i])\n",
    "# pass"
   ]
  },
  {
   "cell_type": "code",
   "execution_count": 91,
   "metadata": {},
   "outputs": [
    {
     "name": "stdout",
     "output_type": "stream",
     "text": [
      "Max evasion of E: 0.047526\n",
      "Max evasion of D: 0.309954\n"
     ]
    }
   ],
   "source": [
    "evasion_E = []\n",
    "evasion_D = []\n",
    "standard_E, standard_D = loglaplace.stats (c, moments = 'mv')\n",
    "\n",
    "for n in num_list:\n",
    "    evasion_E.append (fabs (np.mean (X[:n]) - standard_E))\n",
    "    evasion_D.append (fabs (np.std (X[:n], ddof = 1) - standard_D))\n",
    "print ('Max evasion of E: %lf' % max (evasion_E))\n",
    "print ('Max evasion of D: %lf' % max (evasion_D))"
   ]
  },
  {
   "cell_type": "code",
   "execution_count": 92,
   "metadata": {
    "scrolled": true
   },
   "outputs": [
    {
     "data": {
      "image/png": "[encoded data removed]",
      "text/plain": [
       "<Figure size 432x288 with 1 Axes>"
      ]
     },
     "metadata": {
      "needs_background": "light"
     },
     "output_type": "display_data"
    }
   ],
   "source": [
    "plt.plot (num_list, evasion_D, label = \"Evasion of D\", color = 'red')\n",
    "plt.plot (num_list, evasion_E, label = \"Evasion of E\", color = 'blue')\n",
    "plt.xlabel ('n')\n",
    "plt.legend (loc = 0)\n",
    "plt.show ()"
   ]
  },
  {
   "cell_type": "markdown",
   "metadata": {},
   "source": [
    "Из графиков видно, что оценка математического ожидания \n",
    "$\\displaystyle\\overline X$\n",
    "сходится быстрее, чем оценка дисперсии \n",
    "$\\sqrt{\\frac1{n-1}\\sum\\limits_{i=1}^{n}(X_i-\\overline X)^2}$"
   ]
  },
  {
   "cell_type": "markdown",
   "metadata": {},
   "source": [
    "### Оценка эксцесса распределения"
   ]
  },
  {
   "cell_type": "markdown",
   "metadata": {},
   "source": [
    "Пусть задана случайная величина $X$, такая что $\\mathbb E|X|^3 < \\infty$. "
   ]
  },
  {
   "cell_type": "markdown",
   "metadata": {},
   "source": [
    "Пусть $\\mu_4$ обозначает третий центральный момент: $\\mu_4 = \\mathbb E[(X - \\mathbb E X)^4]$, \n",
    "а $\\sigma = \\sqrt{D[X]}$ — стандартное отклонение $X$. "
   ]
  },
  {
   "cell_type": "markdown",
   "metadata": {},
   "source": [
    "Тогда коэффициент эксцесса задаётся формулой: $\\displaystyle\\gamma_2 = \\frac{\\mu_4}{\\sigma^4} - 3$"
   ]
  },
  {
   "cell_type": "markdown",
   "metadata": {},
   "source": [
    "Эксцесс - это показатель, характеризующий меру высоты геометрической формы распределения."
   ]
  },
  {
   "cell_type": "markdown",
   "metadata": {},
   "source": [
    "Построим оценку: \n",
    "$$\n",
    "\\displaystyle\\hat\\gamma_2 + 3 = \n",
    "    \\frac\n",
    "        {\\overline{X^4} - 4\\,\\overline{X^3}\\,\\overline{X} + 6\\,\\overline{X^2}\\,(\\overline X)^2 - 3 (\\overline X)^4}\n",
    "        {\\left(\\frac1{n}\\sum\\limits_{i=1}^{n}(X_i-\\overline X)^2\\right)^2}\n",
    "    =\n",
    "    \\frac\n",
    "        {\\frac{\\sum\\limits_{i=1}^{n}X_i^4}{n}\n",
    "        - 4\\,\\frac{\\sum\\limits_{i=1}^{n}X_i^3 \\, \\sum\\limits_{i=1}^{n}X_i}{n^2}\n",
    "        + 6\\,\\frac{\\sum\\limits_{i=1}^{n}X_i^2 \\,\\Big({\\sum\\limits_{i=1}^{n}X_i}\\Big)^2 }{n^3}\n",
    "        - 3\\,\\frac{\\Big(\\sum\\limits_{i=1}^{n}X_i\\Big)^4}{n^4}}\n",
    "        {\\left(\\frac1{n}\\sum\\limits_{i=1}^{n}\\Big(X_i - \\frac{\\sum\\limits_{i=1}^{n}X_i}{n}\\Big)^2\\right)^2}\n",
    "$$"
   ]
  },
  {
   "cell_type": "markdown",
   "metadata": {},
   "source": [
    "\n",
    "Известно, что \n",
    "$$\n",
    "\\overline{X} = \\frac1{n}\\sum\\limits_{i=1}^{n}X_i \\xrightarrow{\\mathbb{P}} \\mathbb{E}X_i \\qquad \n",
    "\\overline{X^2} = \\frac1{n}\\sum\\limits_{i=1}^{n}X_i^2 \\xrightarrow{\\mathbb{P}} \\mathbb{E}X_i^2 \\qquad \n",
    "\\overline{X^3} = \\frac1{n}\\sum\\limits_{i=1}^{n}X_i^3 \\xrightarrow{\\mathbb{P}} \\mathbb{E}X_i^3 \\qquad \n",
    "\\overline{X^4} = \\frac1{n}\\sum\\limits_{i=1}^{n}X_i^4 \\xrightarrow{\\mathbb{P}} \\mathbb{E}X_i^4 \n",
    "$$\n"
   ]
  },
  {
   "cell_type": "markdown",
   "metadata": {},
   "source": [
    "$$\n",
    "H(u_1, u_2, u_3, u_4) = \\frac\n",
    "    {u_4 - 4 u_3 u_1 + 6 u_2 u_1^2 - 3 u_1^4}\n",
    "    {u_2 - u_1^2}\n",
    "$$  "
   ]
  },
  {
   "cell_type": "markdown",
   "metadata": {},
   "source": [
    "$H(u_1, u_2, u_3, u_4)$ - непрерывная функция $\\Rightarrow$ по теореме о наследовании сходимости \n",
    "\n",
    "$$\n",
    "    H\\;( \\overline{X}, \\overline{X^2}, \\overline{X^3}, \\overline{X^4} ) =\n",
    "    H\\;\\Bigg(\n",
    "    \\frac{1}{n}\\sum\\limits_{i=1}^{n}X_i, \\;\n",
    "    \\frac{1}{n}\\sum\\limits_{i=1}^{n}X_i^2,\\; \n",
    "    \\frac{1}{n}\\sum\\limits_{i=1}^{n}X_i^3,\\;\n",
    "    \\frac{1}{n}\\sum\\limits_{i=1}^{n}X_i^4\n",
    "    \\Bigg)\n",
    "    \\xrightarrow{\\mathbb{P}} \\gamma_2 + 3\n",
    "$$"
   ]
  },
  {
   "cell_type": "markdown",
   "metadata": {},
   "source": [
    "### Для каких x можно построить состоятельную оценку F(x)?"
   ]
  },
  {
   "cell_type": "markdown",
   "metadata": {},
   "source": [
    "Определение сходимости по вероятности:\n",
    "$$\n",
    "\\displaystyle\\forall\\varepsilon > 0\\;\n",
    "\\mathbb{P}\\,(|X_n(\\omega)-X(\\omega)| < \\varepsilon) \\rightarrow 1\n",
    "$$"
   ]
  },
  {
   "cell_type": "markdown",
   "metadata": {},
   "source": [
    "Определение равномерной сходимости: \n",
    "\n",
    "$$\n",
    "\\displaystyle \\forall\\varepsilon > 0 \\;\n",
    "\\exists\\delta > 0, \\;\n",
    "\\exists N = N\\,(\\varepsilon): \\;\n",
    "\\forall n > N,\\,\\forall\\omega \\in \\Omega \\;\n",
    "|X_n(\\omega)-X(\\omega)| < \\delta \n",
    "\\Rightarrow \\mathbb{P}\\,(|X_n(\\omega)-X(\\omega)|)< \\varepsilon\n",
    "$$\n",
    "\n",
    "Она включает сходимость по множеству меры нуль. А такого может не быть при сходимости по вероятности."
   ]
  },
  {
   "cell_type": "markdown",
   "metadata": {},
   "source": []
  }
 ],
 "metadata": {
  "kernelspec": {
   "display_name": "Python 3",
   "language": "python",
   "name": "python3"
  },
  "language_info": {
   "codemirror_mode": {
    "name": "ipython",
    "version": 3
   },
   "file_extension": ".py",
   "mimetype": "text/x-python",
   "name": "python",
   "nbconvert_exporter": "python",
   "pygments_lexer": "ipython3",
   "version": "3.7.4"
  }
 },
 "nbformat": 4,
 "nbformat_minor": 4
}
