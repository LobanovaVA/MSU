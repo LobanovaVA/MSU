{
 "cells": [
  {
   "cell_type": "markdown",
   "metadata": {},
   "source": [
    "# Лобанова Валерия 310"
   ]
  },
  {
   "cell_type": "markdown",
   "metadata": {},
   "source": [
    "### Сравнить cамое популярное итальянское Sangiovese, французское Burgundy, и калифорнийское Pinot Noir (не самое популяное, но оно там есть)"
   ]
  },
  {
   "cell_type": "code",
   "execution_count": 2,
   "metadata": {},
   "outputs": [],
   "source": [
    "import numpy as np\n",
    "import scipy as sp\n",
    "import matplotlib.pyplot as plt\n",
    "import seaborn as sns\n",
    "import pandas as pd\n",
    "from scipy import stats"
   ]
  },
  {
   "cell_type": "code",
   "execution_count": 3,
   "metadata": {},
   "outputs": [],
   "source": [
    "data = pd.read_csv (\"winemag-data-130k-v2.csv\")\n",
    "\n",
    "df = data[['country', 'points', 'price', 'province', 'variety', 'taster_name']]\n",
    "df.to_csv ('wine.csv', index = False)\n",
    "\n",
    "dataNew = pd.read_csv (\"wine.csv\")"
   ]
  },
  {
   "cell_type": "code",
   "execution_count": 4,
   "metadata": {},
   "outputs": [],
   "source": [
    "def is_Italy_Sangiovese (x, y):\n",
    "    if type (x) == str and type (y) == str:\n",
    "        return ('Italy' == x and 'Sangiovese' in y)           \n",
    "    return False\n",
    "\n",
    "def is_France_Burgundy (x, y):\n",
    "    if type (x) == str and type (y) == str:\n",
    "        return ('France' == x and 'Burgundy' in y)             \n",
    "    return False\n",
    "\n",
    "def is_California_PinotNoir (x, y):\n",
    "    if type (x) == str and type (y) == str:\n",
    "        return ('California' == x and 'Pinot Noir' in y)             \n",
    "    return False\n",
    "\n",
    "Analyzed_set = dataNew.groupby (\n",
    "    dataNew.apply (\n",
    "        lambda x: is_Italy_Sangiovese (x['country'], x['variety']) \n",
    "            or is_France_Burgundy (x['country'], x['province'])\n",
    "            or is_California_PinotNoir (x['province'], x['variety']), axis = 1))\n",
    "\n",
    "Analyzed_set = Analyzed_set.get_group (True)\n",
    "Analyzed_set = Analyzed_set.dropna (axis = 0)"
   ]
  },
  {
   "cell_type": "code",
   "execution_count": 26,
   "metadata": {},
   "outputs": [
    {
     "name": "stdout",
     "output_type": "stream",
     "text": [
      "len group 1 = 1496, len group 2 = 3090, len group 3 = 4017, "
     ]
    }
   ],
   "source": [
    "def get_group_number (country, province, variety):\n",
    "    if is_Italy_Sangiovese (country, variety):\n",
    "        return 1\n",
    "    elif is_France_Burgundy (country, province):\n",
    "        return 2\n",
    "    elif is_California_PinotNoir (province, variety):\n",
    "        return 3\n",
    "    return 0\n",
    "\n",
    "Analyzed_set['GN'] = Analyzed_set.apply (\n",
    "    lambda x: get_group_number (x['country'], x['province'], x['variety']), axis = 1)\n",
    "\n",
    "for i in range (1, 4):\n",
    "    print ('len group %d = %d' % (i, len (Analyzed_set.groupby('GN').get_group (i))), end = ', ')"
   ]
  },
  {
   "cell_type": "code",
   "execution_count": 27,
   "metadata": {},
   "outputs": [
    {
     "data": {
      "text/html": [
       "<div>\n",
       "<style scoped>\n",
       "    .dataframe tbody tr th:only-of-type {\n",
       "        vertical-align: middle;\n",
       "    }\n",
       "\n",
       "    .dataframe tbody tr th {\n",
       "        vertical-align: top;\n",
       "    }\n",
       "\n",
       "    .dataframe thead th {\n",
       "        text-align: right;\n",
       "    }\n",
       "</style>\n",
       "<table border=\"1\" class=\"dataframe\">\n",
       "  <thead>\n",
       "    <tr style=\"text-align: right;\">\n",
       "      <th></th>\n",
       "      <th>country</th>\n",
       "      <th>points</th>\n",
       "      <th>price</th>\n",
       "      <th>province</th>\n",
       "      <th>variety</th>\n",
       "      <th>taster_name</th>\n",
       "      <th>GN</th>\n",
       "      <th>pointsbyprice</th>\n",
       "    </tr>\n",
       "  </thead>\n",
       "  <tbody>\n",
       "    <tr>\n",
       "      <th>25</th>\n",
       "      <td>US</td>\n",
       "      <td>87</td>\n",
       "      <td>69.0</td>\n",
       "      <td>California</td>\n",
       "      <td>Pinot Noir</td>\n",
       "      <td>Virginie Boone</td>\n",
       "      <td>3</td>\n",
       "      <td>6.112080</td>\n",
       "    </tr>\n",
       "    <tr>\n",
       "      <th>61</th>\n",
       "      <td>Italy</td>\n",
       "      <td>86</td>\n",
       "      <td>17.0</td>\n",
       "      <td>Central Italy</td>\n",
       "      <td>Sangiovese</td>\n",
       "      <td>Kerin O’Keefe</td>\n",
       "      <td>1</td>\n",
       "      <td>6.701361</td>\n",
       "    </tr>\n",
       "    <tr>\n",
       "      <th>65</th>\n",
       "      <td>France</td>\n",
       "      <td>86</td>\n",
       "      <td>24.0</td>\n",
       "      <td>Burgundy</td>\n",
       "      <td>Chardonnay</td>\n",
       "      <td>Roger Voss</td>\n",
       "      <td>2</td>\n",
       "      <td>6.526002</td>\n",
       "    </tr>\n",
       "    <tr>\n",
       "      <th>66</th>\n",
       "      <td>France</td>\n",
       "      <td>86</td>\n",
       "      <td>15.0</td>\n",
       "      <td>Burgundy</td>\n",
       "      <td>Chardonnay</td>\n",
       "      <td>Roger Voss</td>\n",
       "      <td>2</td>\n",
       "      <td>6.767364</td>\n",
       "    </tr>\n",
       "    <tr>\n",
       "      <th>98</th>\n",
       "      <td>Italy</td>\n",
       "      <td>88</td>\n",
       "      <td>30.0</td>\n",
       "      <td>Tuscany</td>\n",
       "      <td>Sangiovese</td>\n",
       "      <td>Kerin O’Keefe</td>\n",
       "      <td>1</td>\n",
       "      <td>6.566577</td>\n",
       "    </tr>\n",
       "    <tr>\n",
       "      <th>...</th>\n",
       "      <td>...</td>\n",
       "      <td>...</td>\n",
       "      <td>...</td>\n",
       "      <td>...</td>\n",
       "      <td>...</td>\n",
       "      <td>...</td>\n",
       "      <td>...</td>\n",
       "      <td>...</td>\n",
       "    </tr>\n",
       "    <tr>\n",
       "      <th>129888</th>\n",
       "      <td>US</td>\n",
       "      <td>91</td>\n",
       "      <td>34.0</td>\n",
       "      <td>California</td>\n",
       "      <td>Pinot Noir</td>\n",
       "      <td>Matt Kettmann</td>\n",
       "      <td>3</td>\n",
       "      <td>6.727604</td>\n",
       "    </tr>\n",
       "    <tr>\n",
       "      <th>129892</th>\n",
       "      <td>Italy</td>\n",
       "      <td>91</td>\n",
       "      <td>72.0</td>\n",
       "      <td>Tuscany</td>\n",
       "      <td>Sangiovese</td>\n",
       "      <td>Kerin O’Keefe</td>\n",
       "      <td>1</td>\n",
       "      <td>6.374037</td>\n",
       "    </tr>\n",
       "    <tr>\n",
       "      <th>129912</th>\n",
       "      <td>US</td>\n",
       "      <td>91</td>\n",
       "      <td>55.0</td>\n",
       "      <td>California</td>\n",
       "      <td>Pinot Noir</td>\n",
       "      <td>Virginie Boone</td>\n",
       "      <td>3</td>\n",
       "      <td>6.496597</td>\n",
       "    </tr>\n",
       "    <tr>\n",
       "      <th>129931</th>\n",
       "      <td>France</td>\n",
       "      <td>91</td>\n",
       "      <td>107.0</td>\n",
       "      <td>Burgundy</td>\n",
       "      <td>Pinot Noir</td>\n",
       "      <td>Roger Voss</td>\n",
       "      <td>2</td>\n",
       "      <td>6.201940</td>\n",
       "    </tr>\n",
       "    <tr>\n",
       "      <th>129936</th>\n",
       "      <td>France</td>\n",
       "      <td>91</td>\n",
       "      <td>66.0</td>\n",
       "      <td>Burgundy</td>\n",
       "      <td>Pinot Noir</td>\n",
       "      <td>Roger Voss</td>\n",
       "      <td>2</td>\n",
       "      <td>6.413123</td>\n",
       "    </tr>\n",
       "  </tbody>\n",
       "</table>\n",
       "<p>8603 rows × 8 columns</p>\n",
       "</div>"
      ],
      "text/plain": [
       "       country  points  price       province     variety     taster_name  GN  \\\n",
       "25          US      87   69.0     California  Pinot Noir  Virginie Boone   3   \n",
       "61       Italy      86   17.0  Central Italy  Sangiovese   Kerin O’Keefe   1   \n",
       "65      France      86   24.0       Burgundy  Chardonnay      Roger Voss   2   \n",
       "66      France      86   15.0       Burgundy  Chardonnay      Roger Voss   2   \n",
       "98       Italy      88   30.0        Tuscany  Sangiovese   Kerin O’Keefe   1   \n",
       "...        ...     ...    ...            ...         ...             ...  ..   \n",
       "129888      US      91   34.0     California  Pinot Noir   Matt Kettmann   3   \n",
       "129892   Italy      91   72.0        Tuscany  Sangiovese   Kerin O’Keefe   1   \n",
       "129912      US      91   55.0     California  Pinot Noir  Virginie Boone   3   \n",
       "129931  France      91  107.0       Burgundy  Pinot Noir      Roger Voss   2   \n",
       "129936  France      91   66.0       Burgundy  Pinot Noir      Roger Voss   2   \n",
       "\n",
       "        pointsbyprice  \n",
       "25           6.112080  \n",
       "61           6.701361  \n",
       "65           6.526002  \n",
       "66           6.767364  \n",
       "98           6.566577  \n",
       "...               ...  \n",
       "129888       6.727604  \n",
       "129892       6.374037  \n",
       "129912       6.496597  \n",
       "129931       6.201940  \n",
       "129936       6.413123  \n",
       "\n",
       "[8603 rows x 8 columns]"
      ]
     },
     "execution_count": 27,
     "metadata": {},
     "output_type": "execute_result"
    }
   ],
   "source": [
    "Analyzed_set['pointsbyprice'] = Analyzed_set.apply (lambda x: x['points'] / (10 + np.log (x['price'])), axis = 1)\n",
    "Analyzed_set"
   ]
  },
  {
   "cell_type": "markdown",
   "metadata": {},
   "source": [
    "Проверим равенство дисперсий:"
   ]
  },
  {
   "cell_type": "code",
   "execution_count": 28,
   "metadata": {},
   "outputs": [
    {
     "data": {
      "image/png": "[encoded data removed]",
      "text/plain": [
       "<Figure size 432x288 with 1 Axes>"
      ]
     },
     "metadata": {
      "needs_background": "light"
     },
     "output_type": "display_data"
    }
   ],
   "source": [
    "sns.boxplot (y = Analyzed_set['pointsbyprice'], x = Analyzed_set['GN']);\n",
    "plt.show()"
   ]
  },
  {
   "cell_type": "code",
   "execution_count": 29,
   "metadata": {},
   "outputs": [
    {
     "data": {
      "text/plain": [
       "LeveneResult(statistic=107.0738278849379, pvalue=1.1693849360987563e-46)"
      ]
     },
     "execution_count": 29,
     "metadata": {},
     "output_type": "execute_result"
    }
   ],
   "source": [
    "stats.levene (Analyzed_set['pointsbyprice'][Analyzed_set['GN'] == 1],\n",
    "              Analyzed_set['pointsbyprice'][Analyzed_set['GN'] == 2],\n",
    "              Analyzed_set['pointsbyprice'][Analyzed_set['GN'] == 3])"
   ]
  },
  {
   "cell_type": "markdown",
   "metadata": {},
   "source": [
    "$p_{value} < 0.05\\;\\Rightarrow$ отвергается равенство дисперсий.\n",
    "\n",
    "Я пробовала изменять функцию, считающую pointsbyprice - гомоскедастичности добиться не получилось.\n",
    "\n",
    "Значит не можем применять ни метод ANOVA, ни метод Краскела-Уоллиса."
   ]
  },
  {
   "cell_type": "markdown",
   "metadata": {},
   "source": [
    "Проверим выборки на нормальность:"
   ]
  },
  {
   "cell_type": "code",
   "execution_count": 30,
   "metadata": {},
   "outputs": [
    {
     "data": {
      "text/plain": [
       "ShapiroResult(statistic=0.9957444667816162, pvalue=0.0003272376488894224)"
      ]
     },
     "execution_count": 30,
     "metadata": {},
     "output_type": "execute_result"
    }
   ],
   "source": [
    "stats.shapiro (Analyzed_set['pointsbyprice'][Analyzed_set['GN'] == 1])"
   ]
  },
  {
   "cell_type": "code",
   "execution_count": 31,
   "metadata": {},
   "outputs": [
    {
     "data": {
      "text/plain": [
       "ShapiroResult(statistic=0.9885052442550659, pvalue=4.015025531961319e-15)"
      ]
     },
     "execution_count": 31,
     "metadata": {},
     "output_type": "execute_result"
    }
   ],
   "source": [
    "stats.shapiro (Analyzed_set['pointsbyprice'][Analyzed_set['GN'] == 2])"
   ]
  },
  {
   "cell_type": "code",
   "execution_count": 32,
   "metadata": {},
   "outputs": [
    {
     "data": {
      "text/plain": [
       "ShapiroResult(statistic=0.9971978068351746, pvalue=9.101748332795978e-07)"
      ]
     },
     "execution_count": 32,
     "metadata": {},
     "output_type": "execute_result"
    }
   ],
   "source": [
    "stats.shapiro (Analyzed_set['pointsbyprice'][Analyzed_set['GN'] == 3])"
   ]
  },
  {
   "cell_type": "markdown",
   "metadata": {},
   "source": [
    "$p_{value} < 0.05\\;$ во всех выборках $\\Rightarrow$ нормальность отвергается."
   ]
  },
  {
   "cell_type": "markdown",
   "metadata": {},
   "source": [
    "Применим Хи-квадрат тест:"
   ]
  },
  {
   "cell_type": "code",
   "execution_count": 33,
   "metadata": {},
   "outputs": [
    {
     "data": {
      "text/plain": [
       "(4868.706977888463,\n",
       " 1.1316631679078765e-158,\n",
       " 2476,\n",
       " array([[0.17389283, 0.35917703, 0.46693014],\n",
       "        [0.17389283, 0.35917703, 0.46693014],\n",
       "        [0.34778566, 0.71835406, 0.93386028],\n",
       "        ...,\n",
       "        [0.17389283, 0.35917703, 0.46693014],\n",
       "        [0.34778566, 0.71835406, 0.93386028],\n",
       "        [0.17389283, 0.35917703, 0.46693014]]))"
      ]
     },
     "execution_count": 33,
     "metadata": {},
     "output_type": "execute_result"
    }
   ],
   "source": [
    "Analyzed_set_crosstab = pd.crosstab (Analyzed_set['pointsbyprice'],  Analyzed_set['GN'], margins = False) \n",
    "\n",
    "sp.stats.chi2_contingency (Analyzed_set_crosstab)"
   ]
  },
  {
   "cell_type": "markdown",
   "metadata": {},
   "source": [
    "Получается, что чисто по оценкам различия есть."
   ]
  },
  {
   "cell_type": "code",
   "execution_count": null,
   "metadata": {},
   "outputs": [],
   "source": []
  }
 ],
 "metadata": {
  "kernelspec": {
   "display_name": "Python 3",
   "language": "python",
   "name": "python3"
  },
  "language_info": {
   "codemirror_mode": {
    "name": "ipython",
    "version": 3
   },
   "file_extension": ".py",
   "mimetype": "text/x-python",
   "name": "python",
   "nbconvert_exporter": "python",
   "pygments_lexer": "ipython3",
   "version": "3.8.6"
  }
 },
 "nbformat": 4,
 "nbformat_minor": 2
}
