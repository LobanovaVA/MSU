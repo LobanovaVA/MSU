{
 "cells": [
  {
   "cell_type": "markdown",
   "metadata": {},
   "source": [
    "# Лобанова Валерия 310"
   ]
  },
  {
   "cell_type": "markdown",
   "metadata": {},
   "source": [
    "### Инкубационный период в Китае и в остальной Азии"
   ]
  },
  {
   "cell_type": "code",
   "execution_count": 2,
   "metadata": {},
   "outputs": [],
   "source": [
    "import numpy as np\n",
    "import matplotlib.pyplot as plt\n",
    "import seaborn as sns\n",
    "import pandas as pd\n",
    "from scipy import stats\n",
    "from datetime import datetime"
   ]
  },
  {
   "cell_type": "code",
   "execution_count": 3,
   "metadata": {},
   "outputs": [],
   "source": [
    "data = pd.read_csv (\"covid_short_data-5.csv\")\n",
    "\n",
    "#Asia_countries without 'China'\n",
    "Asia_countries  = ['Cambodia', 'Nepal', 'South Korea', 'Singapore', 'Thailand', 'Hong Kong', 'Lebanon', 'Phillipines', 'Afghanistan', 'Kuwait', 'Iran', 'Taiwan', 'India',  'Israel', 'UAE', 'Malaysia', 'Bahrain', 'Russia', 'Japan', 'Vietnam', 'Sri Lanka']"
   ]
  },
  {
   "cell_type": "code",
   "execution_count": 4,
   "metadata": {},
   "outputs": [],
   "source": [
    "def to_date (date):\n",
    "    if len (date.split('/')[-1]) == 2:\n",
    "        return datetime.strptime (date, '%m/%d/%y').date ()\n",
    "    return datetime.strptime (date, '%m/%d/%Y').date ()\n",
    "\n",
    "def numOfDays (date1, date2): \n",
    "    return (to_date (date2) - to_date (date1)).days\n",
    "\n",
    "def IncubationPeriod (data, m, n, list_countries = ['China']):\n",
    "    if type (data['exposure_end'][n]) == str \\\n",
    "        and type (data['symptom_onset'][n]) == str \\\n",
    "        and data['country'][n] in list_countries:\n",
    "            nD = numOfDays (data['exposure_end'][n], data['symptom_onset'][n])\n",
    "            if nD >= 0:\n",
    "                return nD + m\n",
    "    elif type (data['exposure_start'][n]) == str \\\n",
    "        and type (data['symptom_onset'][n]) == str \\\n",
    "        and data['country'][n] in list_countries:\n",
    "            nD = numOfDays (data['exposure_start'][n], data['symptom_onset'][n])\n",
    "            return nD - m\n",
    "    return "
   ]
  },
  {
   "cell_type": "code",
   "execution_count": 5,
   "metadata": {},
   "outputs": [],
   "source": [
    "delta_days = np.array ([numOfDays (data['exposure_start'][n], data['exposure_end'][n]) \n",
    "                        for n in range (len (data['reporting date'])) \n",
    "                            if type (data['exposure_start'][n]) == str \n",
    "                            and type (data['exposure_end'][n]) == str ])\n",
    "\n",
    "median = np.median (delta_days)"
   ]
  },
  {
   "cell_type": "code",
   "execution_count": 6,
   "metadata": {},
   "outputs": [],
   "source": [
    "China_incubation = np.array ([IncubationPeriod (data, median, n) \n",
    "                        for n in range (len (data['reporting date'])) \n",
    "                            if IncubationPeriod(data, median, n) is not None])\n",
    "\n",
    "Asia_incubation = np.array ([IncubationPeriod (data, median, n, Asia_countries) \n",
    "                        for n in range (len (data['reporting date'])) \n",
    "                            if IncubationPeriod(data, median, n, Asia_countries) is not None])  "
   ]
  },
  {
   "cell_type": "markdown",
   "metadata": {},
   "source": [
    "Shapiro of China_incubation:"
   ]
  },
  {
   "cell_type": "code",
   "execution_count": 7,
   "metadata": {},
   "outputs": [
    {
     "data": {
      "text/plain": [
       "ShapiroResult(statistic=0.8756677508354187, pvalue=7.205451765912585e-06)"
      ]
     },
     "execution_count": 7,
     "metadata": {},
     "output_type": "execute_result"
    }
   ],
   "source": [
    "stats.shapiro (China_incubation)"
   ]
  },
  {
   "cell_type": "markdown",
   "metadata": {},
   "source": [
    "Shapiro of Asia_incubation:"
   ]
  },
  {
   "cell_type": "code",
   "execution_count": 8,
   "metadata": {},
   "outputs": [
    {
     "data": {
      "text/plain": [
       "ShapiroResult(statistic=0.7994221448898315, pvalue=1.5635661654300748e-09)"
      ]
     },
     "execution_count": 8,
     "metadata": {},
     "output_type": "execute_result"
    }
   ],
   "source": [
    "stats.shapiro (Asia_incubation)"
   ]
  },
  {
   "cell_type": "markdown",
   "metadata": {},
   "source": [
    "$p_{value} < 0.05\\;$ в обоих выборках $\\Rightarrow$ нормальность отвергается\n"
   ]
  },
  {
   "cell_type": "code",
   "execution_count": 9,
   "metadata": {},
   "outputs": [
    {
     "name": "stdout",
     "output_type": "stream",
     "text": [
      "Size of China_incubation = 67\n",
      "Size of Asia_incubation  = 87\n"
     ]
    }
   ],
   "source": [
    "print (\"Size of China_incubation = %d\" % len (China_incubation))\n",
    "print (\"Size of Asia_incubation  = %d\" % len (Asia_incubation))"
   ]
  },
  {
   "cell_type": "markdown",
   "metadata": {},
   "source": [
    "Выборки достаточно большие для применения асимптотического двухвыборочного критерия Вилкоксона"
   ]
  },
  {
   "cell_type": "code",
   "execution_count": 10,
   "metadata": {},
   "outputs": [
    {
     "data": {
      "text/plain": [
       "RanksumsResult(statistic=-2.973842097692456, pvalue=0.002940963732477172)"
      ]
     },
     "execution_count": 10,
     "metadata": {},
     "output_type": "execute_result"
    }
   ],
   "source": [
    "stats.ranksums(China_incubation, Asia_incubation)"
   ]
  },
  {
   "cell_type": "markdown",
   "metadata": {},
   "source": [
    "Вывод: распределение инкубационных периодов Китая и остальных стран Азии отличаются"
   ]
  },
  {
   "cell_type": "code",
   "execution_count": null,
   "metadata": {},
   "outputs": [],
   "source": []
  }
 ],
 "metadata": {
  "kernelspec": {
   "display_name": "Python 3",
   "language": "python",
   "name": "python3"
  },
  "language_info": {
   "codemirror_mode": {
    "name": "ipython",
    "version": 3
   },
   "file_extension": ".py",
   "mimetype": "text/x-python",
   "name": "python",
   "nbconvert_exporter": "python",
   "pygments_lexer": "ipython3",
   "version": "3.8.6"
  }
 },
 "nbformat": 4,
 "nbformat_minor": 2
}
